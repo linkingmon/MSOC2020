{
 "cells": [
  {
   "cell_type": "code",
   "execution_count": null,
   "metadata": {},
   "outputs": [],
   "source": [
    "from __future__ import print_function\n",
    "\n",
    "import sys\n",
    "import numpy as np\n",
    "from time import time\n",
    "import random\n",
    "import matplotlib.pyplot as plt\n",
    "\n",
    "sys.path.append('/home/xilinx')\n",
    "from pynq import Overlay\n",
    "from pynq import allocate\n",
    "\n",
    "if __name__ == \"__main__\":\n",
    "    print(\"Entry:\", sys.argv[0])\n",
    "    print(\"System argument(s):\", len(sys.argv))\n",
    "\n",
    "    print(\"Start of \\\"\" + sys.argv[0] + \"\\\"\")\n",
    "\n",
    "    ol = Overlay(\"/home/xilinx/IPBitFile/yclin/CORDIC_SQRT.bit\")\n",
    "    ipFIRN11 = ol.top_process_magnitude_0\n",
    "\n",
    "    numSamples = 256\n",
    "    ground_truth = np.zeros(numSamples)\n",
    "    real_data_buffer = allocate(shape=(numSamples,), dtype=np.int32)\n",
    "    imag_data_buffer = allocate(shape=(numSamples,), dtype=np.int32)\n",
    "    output_data_buffer = allocate(shape=(numSamples,), dtype=np.int32)\n",
    "    for i in range(numSamples):\n",
    "        real_part = random.randint(0,32768)\n",
    "        imag_part = random.randint(0,32768)\n",
    "        real_data_buffer[i] = real_part\n",
    "        imag_data_buffer[i] = imag_part\n",
    "        ground_truth[i] = np.sqrt(imag_part*imag_part + real_part*real_part)\n",
    "\n",
    "    timeKernelStart = time()\n",
    "    ipFIRN11.write(0x10, real_data_buffer.device_address)\n",
    "    ipFIRN11.write(0x18, imag_data_buffer.device_address)\n",
    "    ipFIRN11.write(0x20, output_data_buffer.device_address)\n",
    "    ipFIRN11.write(0x00, 0x01)\n",
    "    while (ipFIRN11.read(0x00) & 0x4) == 0x0:\n",
    "        continue\n",
    "    timeKernelEnd = time()\n",
    "    print(\"Kernel execution time: \" + str(timeKernelEnd - timeKernelStart) + \" s\")\n",
    "\n",
    "    plt.plot(np.abs(ground_truth-output_data_buffer))\n",
    "    plt.plot(np.ones(numSamples)*3)\n",
    "    plt.legend(['Error curve', 'Threshold'])\n",
    "    plt.xlabel('index')\n",
    "    plt.ylabel('Error')\n",
    "    plt.show()\n",
    "\n",
    "    print(\"============================\")\n",
    "    print(\"Exit process\")"
   ]
  },
  {
   "cell_type": "code",
   "execution_count": null,
   "metadata": {},
   "outputs": [],
   "source": []
  }
 ],
 "metadata": {
  "kernelspec": {
   "display_name": "Python 3",
   "language": "python",
   "name": "python3"
  },
  "language_info": {
   "codemirror_mode": {
    "name": "ipython",
    "version": 3
   },
   "file_extension": ".py",
   "mimetype": "text/x-python",
   "name": "python",
   "nbconvert_exporter": "python",
   "pygments_lexer": "ipython3",
   "version": "3.6.5"
  }
 },
 "nbformat": 4,
 "nbformat_minor": 2
}