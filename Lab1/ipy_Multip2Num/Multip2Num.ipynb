{
 "cells": [
  {
   "cell_type": "code",
   "execution_count": null,
   "metadata": {
    "scrolled": true
   },
   "outputs": [],
   "source": [
    "from __future__ import print_function\n",
    "\n",
    "import sys\n",
    "\n",
    "sys.path.append('/home/xilinx')\n",
    "from pynq import Overlay\n",
    "\n",
    "if __name__ == \"__main__\":\n",
    "    print(\"Entry:\", sys.argv[0])\n",
    "    print(\"System argument(s):\", len(sys.argv))\n",
    "\n",
    "    print(\"Start of \\\"\" + sys.argv[0] + \"\\\"\")\n",
    "\n",
    "    ol = Overlay(\"/home/xilinx/IPBitFile/Multip2Num.bit\")\n",
    "    regIP = ol.multip_2num_0\n",
    "    \n",
    "    for i in range(9):\n",
    "        print(\"============================\")\n",
    "        for j in range(9):\n",
    "            regIP.write(0x10, i + 1)\n",
    "            regIP.write(0x18, j + 1)\n",
    "            Res = regIP.read(0x20)\n",
    "            print(str(i + 1) + \" * \" + str(j + 1) + \" = \" + str(Res))\n",
    "    print(\"============================\")\n",
    "    print(\"Exit process\")"
   ]
  },
  {
   "cell_type": "code",
   "execution_count": null,
   "metadata": {},
   "outputs": [],
   "source": []
  }
 ],
 "metadata": {
  "kernelspec": {
   "display_name": "Python 3",
   "language": "python",
   "name": "python3"
  },
  "language_info": {
   "codemirror_mode": {
    "name": "ipython",
    "version": 3
   },
   "file_extension": ".py",
   "mimetype": "text/x-python",
   "name": "python",
   "nbconvert_exporter": "python",
   "pygments_lexer": "ipython3",
   "version": "3.6.5"
  }
 },
 "nbformat": 4,
 "nbformat_minor": 2
}
